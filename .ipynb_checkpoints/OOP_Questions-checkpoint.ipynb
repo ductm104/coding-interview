{
 "cells": [
  {
   "cell_type": "markdown",
   "metadata": {},
   "source": [
    "# <center>Short Questions </center>"
   ]
  },
  {
   "cell_type": "markdown",
   "metadata": {},
   "source": [
    "### Question 1: What is Object Oriented Programming?\n",
    "**Object Oriented Programming** (OOP) is a programming paradigm where the complete software operates as a bunch of objects talking to each other. An object is a collection of data and methods that operate on its data.\n",
    "\n",
    "NOTE: \n",
    "* **paradigm** (n): mo hinh"
   ]
  },
  {
   "cell_type": "markdown",
   "metadata": {},
   "source": [
    "### Question 2: Why OOP?\n",
    "The main advantage of **OOP** is better manageable code that covers following:\n",
    "1. The overall understanding of the software is increased as the distance between the language spoken by devs and by users.\n",
    "2. Object orientation eases maintenance by the use of encapsulation. One can easily change the underlying representation by keeping the methods same.\n",
    "\n",
    "Advantage of OOP:\n",
    "* Code reuse and recycling\n",
    "\n",
    "* Encapsulation: Once an Object is created, knowledge of its implementation is not necessary for its use.\n",
    "\n",
    "* Encapsulation: Objects have the ability to hide certain parts of themselves from programmers. This prevents programmers from tampering with values they shouldn't.\n",
    "\n",
    "* Design Benefits: Large programs are very difficult to write. Object Oriented Programs force designers to go through an extensive planning phase, which makes for better designs with less flaws. In addition, once a program reaches a certain size, Object Oriented Programs are actually easier to program than non-Object Oriented ones.\n",
    "\n",
    "* Software Maintenance: Programs are not disposable. Legacy code must be dealt with on a daily basis, either to be improved upon (for a new version of an exist piece of software) or made to work with newer computers and software. An Object Oriented Program is much easier to modify and maintain than a non-Object Oriented Program. So although a lot of work is spent before the program is written, less work is needed to maintain it over time.\n",
    "\n",
    "NOTE:\n",
    "* **ease** (v): giam bot\n",
    "* **encapsulation** (n): dong goi\n",
    "* **tamper** (v): xao tron, gia mao"
   ]
  },
  {
   "cell_type": "markdown",
   "metadata": {},
   "source": [
    "### Question 3: What are main features of OOP?\n",
    "1. Encapsulation\n",
    "2. Polymorphism\n",
    "3. Inheritance\n",
    "4. Abstraction"
   ]
  },
  {
   "cell_type": "markdown",
   "metadata": {},
   "source": [
    "### Question 4: What is Encapsulation?\n",
    "1. Data hiding: A language feature to restrict access to members of an object. For example, private and protected members in C++.\n",
    "\n",
    "2. Bundling of data and methods together: Data and methods that operate on that data are bundled together.\n",
    "\n",
    "NOTE:\n",
    "* **Bundle** (v): Goi lai"
   ]
  },
  {
   "cell_type": "markdown",
   "metadata": {},
   "source": [
    "### Question 5: What is Polymorphism? Type of Polymorphism?\n",
    "**Polymorphism** means that some code or operations or objects behave differently in different contexts.\n",
    "\n",
    "There are 2 types of Polymorphism:\n",
    "1. **Compile Time Polymorphism** (Static Polymorphism): It means compiler khows exactly which function should be call when a polymorphic call is made.\n",
    "    * Example: **Method Overloading**: Allows us to have more than one method having the same name, but have different numbers of parameter in those methods, e.g:\n",
    "        * ```add(num1, num2)```\n",
    "        * ```add(num1, num2, num3)```\n",
    "        \n",
    "2. **Run Time Polymorphism** (Dynamic Polymorphism): \n",
    "Dynamic polymorphism is a process in which a call to an overridden method is resolved at runtime.\n",
    "    ```java\n",
    "    class ABC{\n",
    "        public void myMethod(){\n",
    "            System.out.println(\"Overridden Method\");\n",
    "        }\n",
    "    }\n",
    "\n",
    "    public class XYZ extends ABC{\n",
    "        public void myMethod(){\n",
    "            System.out.println(\"Overriding Method\");\n",
    "        }\n",
    "\n",
    "        public static void main(String args[]){\n",
    "            ABC obj = new XYZ();\n",
    "            obj.myMethod();\n",
    "        }\n",
    "    }\n",
    "    ```\n",
    "    * **$->$ Output: Overriding Method**\n",
    "\n",
    "    * In this example, we have child class object assigned to the parent class reference so in order to determine which method would be called, the type of the object would be determined at **run-time**."
   ]
  },
  {
   "cell_type": "markdown",
   "metadata": {},
   "source": [
    "### Question 6: What is Inheritance? Its purpose?\n",
    "* **Idea**: a object (or class) is based on another object (class) and uses data and implementation of that object.\n",
    "* **Purpose**: Code Reuse"
   ]
  },
  {
   "cell_type": "markdown",
   "metadata": {},
   "source": [
    "### Question 7: What is Abstraction?\n",
    "We are confronted with \"real-life\" problems and we want to make it easier by providing a program for the problem. However, real-life problems are nebulous and the first thing we have to do is try to understand the problem to separate necessary from unnecessary details: We try to obtain our own abstract view, or model, of the problem.\n",
    "\n",
    "**Idea**: Selecting data from larger pool to show only the relevant details to the object. It helps to reduce programming complexity and effort.\n",
    "\n",
    "NOTE:\n",
    "* **confront**: doi mat\n",
    "* **nubulous**: mow ho"
   ]
  }
 ],
 "metadata": {
  "kernelspec": {
   "display_name": "Python 3",
   "language": "python",
   "name": "python3"
  },
  "language_info": {
   "codemirror_mode": {
    "name": "ipython",
    "version": 3
   },
   "file_extension": ".py",
   "mimetype": "text/x-python",
   "name": "python",
   "nbconvert_exporter": "python",
   "pygments_lexer": "ipython3",
   "version": "3.7.1"
  }
 },
 "nbformat": 4,
 "nbformat_minor": 2
}
